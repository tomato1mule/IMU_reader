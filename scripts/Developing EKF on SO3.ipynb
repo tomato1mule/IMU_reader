{
 "cells": [
  {
   "cell_type": "code",
   "execution_count": 1,
   "metadata": {},
   "outputs": [],
   "source": [
    "import rospy\n",
    "from sensor_msgs.msg import Imu\n",
    "\n",
    "import numpy as np\n",
    "import torch"
   ]
  },
  {
   "cell_type": "code",
   "execution_count": 2,
   "metadata": {},
   "outputs": [],
   "source": [
    "gyro_fps=400\n",
    "accel_fps=250"
   ]
  },
  {
   "cell_type": "code",
   "execution_count": null,
   "metadata": {},
   "outputs": [],
   "source": []
  },
  {
   "cell_type": "code",
   "execution_count": 3,
   "metadata": {},
   "outputs": [],
   "source": [
    "def skew2vec(W):\n",
    "    assert W.shape==(3,3)\n",
    "    w=torch.tensor([(W[2,1]-W[1,2])/2,\n",
    "                  (W[0,2]-W[2,0])/2,\n",
    "                  (W[1,0]-W[0,1])/2,\n",
    "                   ])\n",
    "    return w\n",
    "\n",
    "def vec2skew(w):\n",
    "    assert w.shape==(3,)\n",
    "    W=torch.tensor(\n",
    "                  [[0,-1*w[2],w[1]],\n",
    "                  [w[2],0,-1*w[0]],\n",
    "                  [-1*w[1],w[0],0]\n",
    "                  ])\n",
    "    return W"
   ]
  },
  {
   "cell_type": "code",
   "execution_count": 4,
   "metadata": {},
   "outputs": [],
   "source": [
    "def r2w(r):\n",
    "    # exponential coordinate to w,theta coordinate\n",
    "    theta = torch.linalg.norm(r)\n",
    "    assert 0<theta and theta<np.pi\n",
    "    w = r/theta\n",
    "    \n",
    "    if abs(theta-0)<0.1 or abs(theta-np.pi)<0.1:\n",
    "        print(\"warning!! theta near singularity\")\n",
    "    \n",
    "    return theta , w\n",
    "\n",
    "def w2r(theta,w):\n",
    "    assert 0<theta and theta<np.pi\n",
    "    return theta*w"
   ]
  },
  {
   "cell_type": "code",
   "execution_count": 5,
   "metadata": {},
   "outputs": [],
   "source": [
    "def Rodrigues(theta,W):\n",
    "    return torch.eye(3)+(torch.sin(theta)*W)+((1-torch.cos(theta))*(W@W))\n",
    "\n",
    "def matlog(R):\n",
    "    tr = torch.trace(R)\n",
    "    assert abs(torch.linalg.det(R)-1)<0.0001\n",
    "    assert tr<3 and tr>-1\n",
    "    if abs(tr-3)<0.1 or abs(tr+1)<0.1:\n",
    "        print(\"warning!! R near singularity\")\n",
    "    \n",
    "    theta=torch.arccos((tr-1)/2)\n",
    "    W=(R-R.T)/(2*torch.sin(theta))\n",
    "    \n",
    "    return theta,W"
   ]
  },
  {
   "cell_type": "code",
   "execution_count": 6,
   "metadata": {},
   "outputs": [],
   "source": [
    "def aJacobian(theta,W):\n",
    "    rmat=theta*W\n",
    "    A=torch.eye(3) - (((1-torch.cos(theta))/(theta**2))*rmat) + (((theta-torch.sin(theta))/(theta**3))*(rmat@rmat))         \n",
    "    return A"
   ]
  },
  {
   "cell_type": "code",
   "execution_count": 7,
   "metadata": {},
   "outputs": [],
   "source": [
    "def dynamic_model(r,wb,dt=1/400):\n",
    "    assert type(r)==torch.Tensor\n",
    "    wb_=torch.tensor(wb,dtype=float)\n",
    "    theta,w=r2w(r)\n",
    "    W=vec2skew(w)\n",
    "    A=aJacobian(theta,W)\n",
    "    Ainv=torch.inverse(A)\n",
    "    return r+(dt*Ainv@wb_)"
   ]
  },
  {
   "cell_type": "raw",
   "metadata": {},
   "source": [
    "#dynamic_model test\n",
    "r=torch.tensor([0.432,1.23,0.832],dtype=float,requires_grad=True)\n",
    "wb=np.array([-3.,2.,-1.])\n",
    "dt=0.0025\n",
    "r_next=dynamic_model(r,wb,dt)\n",
    "r_next"
   ]
  },
  {
   "cell_type": "raw",
   "metadata": {},
   "source": [
    "#ground_truth, but not precise since det|R| != 1.0000000000\n",
    "theta,w=r2w(r)\n",
    "W=vec2skew(w)\n",
    "Wb=vec2skew(wb)\n",
    "R=Rodrigues(theta,W)\n",
    "Rdot=R@Wb\n",
    "R_next=R+(Rdot*dt)\n",
    "theta_,W_=matlog(R_next)\n",
    "w_=skew2vec(W_)\n",
    "r_next_=w2r(theta_,w_)\n",
    "r_next_"
   ]
  },
  {
   "cell_type": "code",
   "execution_count": 8,
   "metadata": {},
   "outputs": [],
   "source": [
    "def measurement_model(r):\n",
    "    g=torch.tensor([0,0,-9.8],dtype=float)\n",
    "    \n",
    "    theta,w=r2w(r)\n",
    "    W=vec2skew(w)\n",
    "    R=Rodrigues(theta,W)\n",
    "    Rinv=torch.inverse(R)\n",
    "    zhat=Rinv@g\n",
    "    return zhat\n"
   ]
  },
  {
   "cell_type": "raw",
   "metadata": {},
   "source": [
    "#measurement model test\n",
    "r=torch.tensor([0,np.pi/2,0],dtype=float,requires_grad=True)\n",
    "ahat=measurement_model(r)\n",
    "ahat"
   ]
  },
  {
   "cell_type": "code",
   "execution_count": null,
   "metadata": {},
   "outputs": [],
   "source": []
  },
  {
   "cell_type": "code",
   "execution_count": null,
   "metadata": {},
   "outputs": [],
   "source": []
  },
  {
   "cell_type": "raw",
   "metadata": {},
   "source": [
    "r=torch.tensor([0.432,1.23,0.832],dtype=float,requires_grad=True)\n",
    "a=np.array([0,-9.8,0])\n",
    "wb=np.array([-3.,2.,-1.])\n",
    "dt=0.0025\n",
    "\n",
    "\n",
    "r_next=dynamic_model(r,wb,dt)\n",
    "ahat=measurement_model(r)"
   ]
  },
  {
   "cell_type": "code",
   "execution_count": 9,
   "metadata": {},
   "outputs": [],
   "source": [
    "def tensor_jacobian(T,r):\n",
    "    shape=T.shape\n",
    "    T_=T.view(-1)\n",
    "    T_length=T_.shape[0]\n",
    "    r_length=r.shape[0]\n",
    "    J=torch.zeros((T_length,r_length),dtype=float)\n",
    "    \n",
    "    for i in range(T_length):\n",
    "        if not r.grad==None:\n",
    "            r.grad.zero_()\n",
    "        T_[i].backward(retain_graph=True)\n",
    "        J[i,:]=r.grad\n",
    "    \n",
    "    r.grad.zero_()\n",
    "    \n",
    "    J=J.view(*shape,r_length)\n",
    "    return J\n",
    "        \n",
    "        \n",
    "        \n",
    "    \n",
    "    \n",
    "    \n",
    "    "
   ]
  },
  {
   "cell_type": "raw",
   "metadata": {},
   "source": [
    "tensor_jacobian(ahat,r)"
   ]
  },
  {
   "cell_type": "raw",
   "metadata": {},
   "source": [
    "tensor_jacobian(r_next,r)"
   ]
  },
  {
   "cell_type": "code",
   "execution_count": null,
   "metadata": {},
   "outputs": [],
   "source": []
  },
  {
   "cell_type": "code",
   "execution_count": null,
   "metadata": {},
   "outputs": [],
   "source": []
  },
  {
   "cell_type": "code",
   "execution_count": null,
   "metadata": {},
   "outputs": [],
   "source": []
  },
  {
   "cell_type": "code",
   "execution_count": null,
   "metadata": {},
   "outputs": [],
   "source": []
  },
  {
   "cell_type": "code",
   "execution_count": null,
   "metadata": {},
   "outputs": [],
   "source": []
  },
  {
   "cell_type": "code",
   "execution_count": null,
   "metadata": {},
   "outputs": [],
   "source": []
  },
  {
   "cell_type": "raw",
   "metadata": {},
   "source": [
    "r0=np.array([np.pi/2,0,0])\n",
    "r0=torch.tensor(r0,dtype=float)\n",
    "cov0=1.*torch.eye(3,dtype=float)"
   ]
  },
  {
   "cell_type": "raw",
   "metadata": {},
   "source": [
    "S=0.5*torch.eye(3,dtype=float) #dynamics noise\n",
    "Q=0.5*torch.eye(3,dtype=float) #measurement noise"
   ]
  },
  {
   "cell_type": "raw",
   "metadata": {},
   "source": [
    "r=torch.tensor([0.432,1.23,0.832],dtype=float,requires_grad=True)\n",
    "cov=0.5*torch.eye(3,dtype=float)\n",
    "a=np.array([0,-9.8,0])\n",
    "wb=np.array([-3.,2.,-1.])\n",
    "dt=0.0025"
   ]
  },
  {
   "cell_type": "raw",
   "metadata": {},
   "source": [
    "g=dynamic_model(r,wb,dt)\n",
    "G=tensor_jacobian(g,r)\n",
    "r_bar=g.clone().detach().requires_grad_(True)"
   ]
  },
  {
   "cell_type": "raw",
   "metadata": {},
   "source": [
    "h=measurement_model(r_bar)\n",
    "H=tensor_jacobian(h,r_bar)"
   ]
  },
  {
   "cell_type": "raw",
   "metadata": {},
   "source": [
    "with torch.no_grad():\n",
    "    cov_bar = G@cov@G.T + S\n",
    "    K = cov_bar@H.T@torch.inverse(H@cov_bar@H.T+Q)\n",
    "    r_next = r_bar + (K@(torch.tensor(a,dtype=float)-h))\n",
    "    cov_next = (torch.eye(3,dtype=float)-(K@H))@cov_bar"
   ]
  },
  {
   "cell_type": "code",
   "execution_count": null,
   "metadata": {},
   "outputs": [],
   "source": []
  },
  {
   "cell_type": "code",
   "execution_count": null,
   "metadata": {},
   "outputs": [],
   "source": []
  },
  {
   "cell_type": "code",
   "execution_count": null,
   "metadata": {},
   "outputs": [],
   "source": []
  },
  {
   "cell_type": "code",
   "execution_count": null,
   "metadata": {},
   "outputs": [],
   "source": []
  },
  {
   "cell_type": "code",
   "execution_count": 15,
   "metadata": {},
   "outputs": [],
   "source": [
    "def EKF(r: torch.Tensor,cov: torch.Tensor, \n",
    "        wb: np.ndarray, a: np.ndarray, dt) -> torch.Tensor:\n",
    "    S=0.5*torch.eye(3,dtype=float) #dynamics noise\n",
    "    Q=0.5*torch.eye(3,dtype=float) #measurement noise\n",
    "    \n",
    "    g=dynamic_model(r,wb,dt)\n",
    "    G=tensor_jacobian(g,r)\n",
    "    r_bar=g.clone().detach().requires_grad_(True)\n",
    "    h=measurement_model(r_bar)\n",
    "    H=tensor_jacobian(h,r_bar)\n",
    "    \n",
    "    with torch.no_grad():\n",
    "        cov_bar = G@cov@G.T + S\n",
    "        K = cov_bar@H.T@torch.inverse(H@cov_bar@H.T+Q)\n",
    "        r_next = r_bar + (K@(torch.tensor(a,dtype=float)-h))\n",
    "        cov_next = (torch.eye(3,dtype=float)-(K@H))@cov_bar\n",
    "    \n",
    "    return r_next,cov_next\n",
    "    "
   ]
  },
  {
   "cell_type": "code",
   "execution_count": 21,
   "metadata": {},
   "outputs": [],
   "source": [
    "r0=np.array([np.pi/2,0,0])\n",
    "r0=torch.tensor(r0,dtype=float)\n",
    "cov0=1.*torch.eye(3,dtype=float)"
   ]
  },
  {
   "cell_type": "code",
   "execution_count": 22,
   "metadata": {},
   "outputs": [],
   "source": [
    "r=r0.clone().requires_grad_(True)\n",
    "cov=cov0.clone().requires_grad_(True)\n",
    "a=np.array([0,-9.8,0])\n",
    "wb=np.array([-3.,2.,-1.])\n",
    "dt=1/400"
   ]
  },
  {
   "cell_type": "code",
   "execution_count": 23,
   "metadata": {},
   "outputs": [
    {
     "data": {
      "text/plain": [
       "(tensor([1.5708, 0.0059, 0.0020], dtype=torch.float64),\n",
       " tensor([[ 5.2117e-03, -5.6330e-03, -1.8663e-03],\n",
       "         [-5.6330e-03,  1.5000e+00, -1.9110e-05],\n",
       "         [-1.8663e-03, -1.9110e-05,  1.5000e+00]], dtype=torch.float64))"
      ]
     },
     "execution_count": 23,
     "metadata": {},
     "output_type": "execute_result"
    }
   ],
   "source": [
    "EKF(r,cov,wb,a,dt)"
   ]
  },
  {
   "cell_type": "code",
   "execution_count": null,
   "metadata": {},
   "outputs": [],
   "source": []
  },
  {
   "cell_type": "code",
   "execution_count": null,
   "metadata": {},
   "outputs": [],
   "source": []
  },
  {
   "cell_type": "code",
   "execution_count": null,
   "metadata": {},
   "outputs": [],
   "source": []
  },
  {
   "cell_type": "code",
   "execution_count": null,
   "metadata": {},
   "outputs": [],
   "source": []
  },
  {
   "cell_type": "code",
   "execution_count": null,
   "metadata": {},
   "outputs": [],
   "source": []
  },
  {
   "cell_type": "code",
   "execution_count": null,
   "metadata": {},
   "outputs": [],
   "source": []
  },
  {
   "cell_type": "code",
   "execution_count": null,
   "metadata": {},
   "outputs": [],
   "source": [
    "class IMU_reader:\n",
    "    def __init__(self):\n",
    "        #accelerometer calibration ax+b\n",
    "        self.a=np.array([1.017125065,1.02456874,1.018181818])\n",
    "        self.b=np.array([0.01525687597,-0.445687402,-0.3309090909])\n",
    "        \n",
    "        self.accel = np.zeros(3)\n",
    "        self.gyro = np.zeros(3)\n",
    "        rospy.init_node('listener', anonymous=True)\n",
    "        rospy.Subscriber(\"/camera/accel/sample\", Imu, self.accel_callback)\n",
    "        rospy.Subscriber(\"/camera/gyro/sample\", Imu, self.gyro_callback)\n",
    "\n",
    "    def accel_callback(self,data):\n",
    "        v=data.linear_acceleration\n",
    "        v=np.array([v.x,v.y,v.z])\n",
    "        self.accel=self.a*v+self.b\n",
    "\n",
    "    def gyro_callback(self,data):\n",
    "        v=data.angular_velocity\n",
    "        v=np.array([v.x,v.y,v.z])\n",
    "        self.gyro=v"
   ]
  },
  {
   "cell_type": "code",
   "execution_count": null,
   "metadata": {},
   "outputs": [],
   "source": [
    "imur=IMU_reader()"
   ]
  },
  {
   "cell_type": "code",
   "execution_count": null,
   "metadata": {},
   "outputs": [],
   "source": []
  },
  {
   "cell_type": "code",
   "execution_count": null,
   "metadata": {},
   "outputs": [],
   "source": []
  },
  {
   "cell_type": "code",
   "execution_count": null,
   "metadata": {},
   "outputs": [],
   "source": []
  },
  {
   "cell_type": "code",
   "execution_count": null,
   "metadata": {},
   "outputs": [],
   "source": []
  },
  {
   "cell_type": "code",
   "execution_count": null,
   "metadata": {},
   "outputs": [],
   "source": []
  },
  {
   "cell_type": "code",
   "execution_count": null,
   "metadata": {},
   "outputs": [],
   "source": []
  },
  {
   "cell_type": "code",
   "execution_count": null,
   "metadata": {},
   "outputs": [],
   "source": []
  },
  {
   "cell_type": "code",
   "execution_count": null,
   "metadata": {},
   "outputs": [],
   "source": []
  },
  {
   "cell_type": "code",
   "execution_count": null,
   "metadata": {},
   "outputs": [],
   "source": []
  },
  {
   "cell_type": "code",
   "execution_count": null,
   "metadata": {},
   "outputs": [],
   "source": []
  },
  {
   "cell_type": "code",
   "execution_count": null,
   "metadata": {},
   "outputs": [],
   "source": []
  }
 ],
 "metadata": {
  "kernelspec": {
   "display_name": "Python 3",
   "language": "python",
   "name": "python3"
  },
  "language_info": {
   "codemirror_mode": {
    "name": "ipython",
    "version": 3
   },
   "file_extension": ".py",
   "mimetype": "text/x-python",
   "name": "python",
   "nbconvert_exporter": "python",
   "pygments_lexer": "ipython3",
   "version": "3.8.5"
  }
 },
 "nbformat": 4,
 "nbformat_minor": 4
}
