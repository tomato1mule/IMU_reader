{
 "cells": [
  {
   "cell_type": "code",
   "execution_count": null,
   "metadata": {},
   "outputs": [],
   "source": [
    "import time\n",
    "from IPython.display import clear_output, display\n",
    "\n",
    "import rospy\n",
    "from sensor_msgs.msg import Imu\n",
    "\n",
    "import numpy as np\n",
    "import torch"
   ]
  },
  {
   "cell_type": "code",
   "execution_count": null,
   "metadata": {},
   "outputs": [],
   "source": [
    "gyro_fps=200\n",
    "accel_fps=200"
   ]
  },
  {
   "cell_type": "code",
   "execution_count": null,
   "metadata": {},
   "outputs": [],
   "source": []
  },
  {
   "cell_type": "code",
   "execution_count": null,
   "metadata": {},
   "outputs": [],
   "source": [
    "def skew2vec(W):\n",
    "    assert W.shape==(3,3)\n",
    "    w=torch.tensor([(W[2,1]-W[1,2])/2,\n",
    "                  (W[0,2]-W[2,0])/2,\n",
    "                  (W[1,0]-W[0,1])/2,\n",
    "                   ])\n",
    "    return w\n",
    "\n",
    "def vec2skew(w):\n",
    "    assert w.shape==(3,)\n",
    "    W=torch.tensor(\n",
    "                  [[0,-1*w[2],w[1]],\n",
    "                  [w[2],0,-1*w[0]],\n",
    "                  [-1*w[1],w[0],0]\n",
    "                  ])\n",
    "    return W"
   ]
  },
  {
   "cell_type": "code",
   "execution_count": null,
   "metadata": {},
   "outputs": [],
   "source": [
    "def r2w(r):\n",
    "    # exponential coordinate to w,theta coordinate\n",
    "    theta = torch.linalg.norm(r)\n",
    "    assert 0<theta and theta<np.pi\n",
    "    w = r/theta\n",
    "    \n",
    "    if abs(theta-0)<0.1 or abs(theta-np.pi)<0.1:\n",
    "        print(\"warning!! theta near singularity\")\n",
    "    \n",
    "    return theta , w\n",
    "\n",
    "def w2r(theta,w):\n",
    "    assert 0<theta and theta<np.pi\n",
    "    return theta*w"
   ]
  },
  {
   "cell_type": "code",
   "execution_count": null,
   "metadata": {},
   "outputs": [],
   "source": [
    "def Rodrigues(theta,W):\n",
    "    return torch.eye(3)+(torch.sin(theta)*W)+((1-torch.cos(theta))*(W@W))\n",
    "\n",
    "def matlog(R):\n",
    "    tr = torch.trace(R)\n",
    "    assert abs(torch.linalg.det(R)-1)<0.0001\n",
    "    assert tr<3 and tr>-1\n",
    "    if abs(tr-3)<0.1 or abs(tr+1)<0.1:\n",
    "        print(\"warning!! R near singularity\")\n",
    "    \n",
    "    theta=torch.arccos((tr-1)/2)\n",
    "    W=(R-R.T)/(2*torch.sin(theta))\n",
    "    \n",
    "    return theta,W"
   ]
  },
  {
   "cell_type": "code",
   "execution_count": null,
   "metadata": {},
   "outputs": [],
   "source": [
    "def aJacobian(theta,W):\n",
    "    rmat=theta*W\n",
    "    A=torch.eye(3) - (((1-torch.cos(theta))/(theta**2))*rmat) + (((theta-torch.sin(theta))/(theta**3))*(rmat@rmat))         \n",
    "    return A"
   ]
  },
  {
   "cell_type": "code",
   "execution_count": null,
   "metadata": {},
   "outputs": [],
   "source": [
    "def dynamic_model(r,wb,dt):\n",
    "    assert type(r)==torch.Tensor\n",
    "    wb_=torch.tensor(wb,dtype=float)\n",
    "    theta,w=r2w(r)\n",
    "    W=vec2skew(w)\n",
    "    A=aJacobian(theta,W)\n",
    "    Ainv=torch.inverse(A)\n",
    "    return r+(dt*Ainv@wb_),Ainv"
   ]
  },
  {
   "cell_type": "code",
   "execution_count": null,
   "metadata": {},
   "outputs": [],
   "source": [
    "def measurement_model(r):\n",
    "    g=torch.tensor([0,0,-9.8],dtype=float)\n",
    "    \n",
    "    theta,w=r2w(r)\n",
    "    W=vec2skew(w)\n",
    "    R=Rodrigues(theta,W)\n",
    "    Rinv=torch.inverse(R)\n",
    "    zhat=Rinv@g\n",
    "    return zhat\n"
   ]
  },
  {
   "cell_type": "code",
   "execution_count": null,
   "metadata": {},
   "outputs": [],
   "source": [
    "def tensor_jacobian(T,r):\n",
    "    shape=T.shape\n",
    "    T_=T.view(-1)\n",
    "    T_length=T_.shape[0]\n",
    "    r_length=r.shape[0]\n",
    "    J=torch.zeros((T_length,r_length),dtype=float)\n",
    "    \n",
    "    for i in range(T_length):\n",
    "        if not r.grad==None:\n",
    "            r.grad.zero_()\n",
    "        T_[i].backward(retain_graph=True)\n",
    "        J[i,:]=r.grad\n",
    "    \n",
    "    r.grad.zero_()\n",
    "    \n",
    "    J=J.view(*shape,r_length)\n",
    "    return J"
   ]
  },
  {
   "cell_type": "code",
   "execution_count": null,
   "metadata": {},
   "outputs": [],
   "source": [
    "def EKF(r: torch.Tensor,cov: torch.Tensor, \n",
    "        wb: np.ndarray, a: np.ndarray, dt) -> torch.Tensor:\n",
    "    eps=0.1*torch.tensor(wb,dtype=float) #dynamics noise is 10 % of signal\n",
    "    Q=20*torch.eye(3,dtype=float) #measurement covariance matrix\n",
    "    \n",
    "    g,Ainv=dynamic_model(r,wb,dt)\n",
    "    G=tensor_jacobian(g,r)\n",
    "    r_bar=g.clone().detach().requires_grad_(True)\n",
    "    h=measurement_model(r_bar)\n",
    "    H=tensor_jacobian(h,r_bar)\n",
    "    \n",
    "    with torch.no_grad():\n",
    "        eps_=Ainv@eps\n",
    "        S = (dt**2)*(eps_.view(3,1)@eps_.view(1,3)) #dynamics covariance matrix\n",
    "        cov_bar = G@cov@G.T + S\n",
    "        K = cov_bar@H.T@torch.inverse(H@cov_bar@H.T+Q)\n",
    "        r_next = r_bar + (K@(torch.tensor(a,dtype=float)-h))\n",
    "        cov_next = (torch.eye(3,dtype=float)-(K@H))@cov_bar\n",
    "    \n",
    "    #print(a,h)\n",
    "    \n",
    "    \n",
    "    return r_next,cov_next"
   ]
  },
  {
   "cell_type": "code",
   "execution_count": null,
   "metadata": {},
   "outputs": [],
   "source": [
    "class ReaderConfig:\n",
    "    def __init__(self,\n",
    "                 r0=np.array([np.pi/2,0,0]),\n",
    "                 cov0=1.*np.eye(3),\n",
    "                 accel_scale=np.array([1.017125065,1.02456874,1.018181818]),\n",
    "                 accel_bias=np.array([0.01525687597,-0.445687402,-0.3309090909]),\n",
    "                 dt=1/200,\n",
    "                ):\n",
    "        #accelerometer calibration ax+b\n",
    "        self.accel_scale=accel_scale\n",
    "        self.accel_bias=accel_bias\n",
    "        self.r0=torch.tensor(r0,dtype=float)\n",
    "        self.cov0=torch.tensor(cov0,dtype=float)\n",
    "        self.dt=dt\n",
    "        "
   ]
  },
  {
   "cell_type": "code",
   "execution_count": null,
   "metadata": {},
   "outputs": [],
   "source": [
    "class IMU_reader:\n",
    "    def __init__(self,config):\n",
    "        #accelerometer calibration ax+b\n",
    "        self.config=config\n",
    "        self.a=self.config.accel_scale\n",
    "        self.b=self.config.accel_bias\n",
    "        \n",
    "        self.accel = np.zeros(3)\n",
    "        self.gyro = np.zeros(3)\n",
    "        rospy.init_node('listener', anonymous=True)\n",
    "        rospy.Subscriber(\"/camera/accel/sample\", Imu, self.accel_callback)\n",
    "        rospy.Subscriber(\"/camera/gyro/sample\", Imu, self.gyro_callback)\n",
    "        \n",
    "        self.r=self.config.r0.clone().requires_grad_(True)\n",
    "        self.cov=self.config.cov0.clone().requires_grad_(True)\n",
    "        \n",
    "\n",
    "    def accel_callback(self,data):\n",
    "        v=data.linear_acceleration\n",
    "        v=np.array([v.x,v.y,v.z])\n",
    "        self.accel=self.a*v+self.b\n",
    "\n",
    "    def gyro_callback(self,data):\n",
    "        t0=time.time()\n",
    "        v=data.angular_velocity\n",
    "        v=np.array([v.x,v.y,v.z])\n",
    "        self.gyro=v\n",
    "\n",
    "        r_,cov_=EKF(self.r,self.cov,self.gyro,self.accel,self.config.dt)\n",
    "        self.r=r_.clone().detach().requires_grad_(True)\n",
    "        self.cov=cov_.clone().detach().requires_grad_(True)\n",
    "        t1=time.time()\n",
    "        \n",
    "        clear_output(wait=True)\n",
    "        display(f\"({self.r[0].item():.3f},{self.r[1].item():.3f},{self.r[2].item():.3f}) std: {torch.linalg.det(self.cov):.3f}, time={t1-t0:.4f}\")          \n",
    "        #print(self.accel)"
   ]
  },
  {
   "cell_type": "code",
   "execution_count": null,
   "metadata": {},
   "outputs": [],
   "source": [
    "config=ReaderConfig()\n",
    "imur=IMU_reader(config)"
   ]
  },
  {
   "cell_type": "code",
   "execution_count": null,
   "metadata": {},
   "outputs": [],
   "source": []
  },
  {
   "cell_type": "code",
   "execution_count": null,
   "metadata": {},
   "outputs": [],
   "source": []
  },
  {
   "cell_type": "code",
   "execution_count": null,
   "metadata": {},
   "outputs": [],
   "source": []
  },
  {
   "cell_type": "code",
   "execution_count": null,
   "metadata": {},
   "outputs": [],
   "source": []
  },
  {
   "cell_type": "code",
   "execution_count": null,
   "metadata": {},
   "outputs": [],
   "source": []
  },
  {
   "cell_type": "code",
   "execution_count": null,
   "metadata": {},
   "outputs": [],
   "source": []
  },
  {
   "cell_type": "code",
   "execution_count": null,
   "metadata": {},
   "outputs": [],
   "source": []
  },
  {
   "cell_type": "code",
   "execution_count": null,
   "metadata": {},
   "outputs": [],
   "source": []
  }
 ],
 "metadata": {
  "kernelspec": {
   "display_name": "Python 3",
   "language": "python",
   "name": "python3"
  },
  "language_info": {
   "codemirror_mode": {
    "name": "ipython",
    "version": 3
   },
   "file_extension": ".py",
   "mimetype": "text/x-python",
   "name": "python",
   "nbconvert_exporter": "python",
   "pygments_lexer": "ipython3",
   "version": "3.8.5"
  }
 },
 "nbformat": 4,
 "nbformat_minor": 4
}
